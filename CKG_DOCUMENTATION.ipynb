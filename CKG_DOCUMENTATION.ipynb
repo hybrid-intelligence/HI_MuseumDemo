{
 "cells": [
  {
   "cell_type": "markdown",
   "metadata": {},
   "source": [
    "## Documentation Curation Knowledge Graph\n",
    "\n",
    "The data is extracted from two sources\n",
    "\n",
    "1. The book publiushed about the exhibition: [Black in Rembrandt's Time](https://webshop.rembrandthuis.nl/en/black.html).\n",
    "2. Documents describing the paintings and objects depicted in them, already used for the development of the VR Exhibition's social setting. \n",
    "\n",
    "Scope: The CKG covers at the moment only 1 painting and two narratives, as a way to implement an exemplar scenario to use for the demonstrator.\n",
    "\n",
    "Purpose: \n"
   ]
  },
  {
   "cell_type": "markdown",
   "metadata": {},
   "source": [
    "### Classes\n",
    "\n",
    "The Ontlogy has been (partially) modelled using the Linked Art application profile for CIDOC-CRM. In particular, the Linked Art (LA) AP has been used to represent the [Objects](https://linked.art/model/object/) and the [Exhibition](https://linked.art/model/exhibition/). \n",
    "\n",
    "\n"
   ]
  },
  {
   "cell_type": "markdown",
   "metadata": {},
   "source": [
    "#### Object\n",
    "\n",
    "Objects -in our scenario, a painting- are represented using the class `HeritageObject`, equivalent of the class `crm:E22_Human-Made_Object`. And the name of the object is described as a Literal.\n",
    "\n",
    "* Information related to [the production](https://linked.art/model/object/production/) of the object are represented linking HeritageObject to the class `crm:E12_Production` via property `crm:P108i_was_produced_by`.\n",
    "* The property `crm:P14_carried_out_by` links the E12_Production to the author, `crm:E21_Person` .\n",
    "* The property  `crm:P4_has_Time-span` links the E12_Production to the date in which the object was created, class `crm:P4_has_Time-span` . In the LA AP, a Time-soan has a begin date and an end date. In our case, since we didn't need this complexity, Time-Span only has a `rdfs:label` with an integer as value.\n",
    "* Finally, the content of the painting is described by linking the `HeritageObject` to one or more instances of `crm:E36_Visual_Item`, via property `crm:P65_shows_visual_item`. This is compliant with the representation of [Aboutness](https://linked.art/model/object/aboutness/) in LA."
   ]
  },
  {
   "cell_type": "code",
   "execution_count": null,
   "metadata": {},
   "outputs": [],
   "source": [
    ":A02_King_Caspar rdf:type owl:NamedIndividual ,\n",
    "                          :HeritageObject ;\n",
    "                 crm:P108i_was_produced_by :A02_Production ;\n",
    "                 crm:P65_shows_visual_item :A02_Model ,\n",
    "                                           :Doublet ,\n",
    "                                           :Incense_pot ;\n",
    "                 rdfs:label \"King Caspar\"^^rdfs:Literal .\n",
    "\n",
    "\n",
    ":A02_Production rdf:type owl:NamedIndividual ,\n",
    "                         crm:E12_Production ;\n",
    "                crm:P14_carried_out_by :Hendrick_Heerschop ;\n",
    "                crm:P15_was_influenced_by :Rembrandt ;\n",
    "                crm:P4_has_Time-span :A02_Timespan .\n",
    "\n",
    ":A02_Timespan rdf:type owl:NamedIndividual ,\n",
    "                       crm:E52_Time-Span ;\n",
    "              rdfs:label 1654 .\n",
    "\n",
    ":A02_Model rdf:type owl:NamedIndividual ,\n",
    "                    crm:E36_Visual_Item ;\n",
    "           :hasInterpretation \"Legend has it that one of the three magi who came to worship the Christ child was an African, sometimes called Caspar, sometimes Balthasar. Heerschop painted him without surroundings or story. His identity is inferred from his expensive clothes and the jar of incense, but it is his face that draws attention—he looks at us proudly and self-confidently.\"^^rdfs:Literal .\n"
   ]
  },
  {
   "cell_type": "markdown",
   "metadata": {},
   "source": [
    "To query information about the interpretation of visual items in the painting, one can run the following SPARQL query"
   ]
  },
  {
   "cell_type": "code",
   "execution_count": null,
   "metadata": {},
   "outputs": [
    {
     "name": "stdout",
     "output_type": "stream",
     "text": [
      "Requirement already satisfied: rdflib in c:\\users\\xln105\\appdata\\local\\programs\\python\\python313\\lib\\site-packages (7.0.0)\n",
      "Requirement already satisfied: isodate<0.7.0,>=0.6.0 in c:\\users\\xln105\\appdata\\local\\programs\\python\\python313\\lib\\site-packages (from rdflib) (0.6.1)\n",
      "Requirement already satisfied: pyparsing<4,>=2.1.0 in c:\\users\\xln105\\appdata\\local\\programs\\python\\python313\\lib\\site-packages (from rdflib) (3.2.0)\n",
      "Requirement already satisfied: six in c:\\users\\xln105\\appdata\\local\\programs\\python\\python313\\lib\\site-packages (from isodate<0.7.0,>=0.6.0->rdflib) (1.16.0)\n",
      "Note: you may need to restart the kernel to use updated packages.\n"
     ]
    },
    {
     "name": "stderr",
     "output_type": "stream",
     "text": [
      "\n",
      "[notice] A new release of pip is available: 24.2 -> 25.0.1\n",
      "[notice] To update, run: python.exe -m pip install --upgrade pip\n"
     ]
    }
   ],
   "source": [
    "%pip install rdflib"
   ]
  },
  {
   "cell_type": "code",
   "execution_count": 32,
   "metadata": {},
   "outputs": [],
   "source": [
    "from rdflib import *\n",
    "from rdflib.graph import Graph"
   ]
  },
  {
   "cell_type": "code",
   "execution_count": 33,
   "metadata": {},
   "outputs": [
    {
     "data": {
      "text/plain": [
       "<Graph identifier=N9f36bae6a7cb4992b2982b295bbd0574 (<class 'rdflib.graph.Graph'>)>"
      ]
     },
     "execution_count": 33,
     "metadata": {},
     "output_type": "execute_result"
    }
   ],
   "source": [
    "ckg = Graph()\n",
    "ckg.parse(\"CKG_exampleData.ttl\", format=\"ttl\")"
   ]
  },
  {
   "cell_type": "code",
   "execution_count": 50,
   "metadata": {},
   "outputs": [
    {
     "name": "stdout",
     "output_type": "stream",
     "text": [
      "(rdflib.term.URIRef('http://www.semanticweb.org/xln105/ontologies/2025/2/CurationOntology#A02_Model'), rdflib.term.Literal('Legend has it that one of the three magi who came to worship the Christ child was an African, sometimes called Caspar, sometimes Balthasar. Heerschop painted him without surroundings or story. His identity is inferred from his expensive clothes and the jar of incense, but it is his face that draws attention—he looks at us proudly and self-confidently.', datatype=rdflib.term.URIRef('http://www.w3.org/2000/01/rdf-schema#Literal')))\n",
      "\n",
      "\n",
      "(rdflib.term.URIRef('http://www.semanticweb.org/xln105/ontologies/2025/2/CurationOntology#Doublet'), rdflib.term.Literal('The man in the painting is seen wearing a yellow doublet paired with an intricately detailed and jeweled cloak. A doublet is a type of form-fitted waist-length jacket, often made from linen or wool, that added shape and padding to the body while keeping the wearer warm. Additionally, the color yellow was often associated with the sun and seen as a connection to God in many religions.', datatype=rdflib.term.URIRef('http://www.w3.org/2000/01/rdf-schema#Literal')))\n",
      "\n",
      "\n",
      "(rdflib.term.URIRef('http://www.semanticweb.org/xln105/ontologies/2025/2/CurationOntology#Incense_pot'), rdflib.term.Literal('The golden pot in the painting represents an incense pot, a gift for Jesus. Presented in an ornately decorated golden container and thus expressing its worth, as explained in the Bible, the gold represented the kingship of Jesus. The incense shown in the painting is frankincense, which embodied Jesus’ deity and was burnt in temples as an offering for God. King Caspar gifting this to Jesus affirms that Jesus is both man and God. Additionally, frankincense was thought to have healing powers and was used in traditional healing methods.', datatype=rdflib.term.URIRef('http://www.w3.org/2000/01/rdf-schema#Literal')))\n",
      "\n",
      "\n"
     ]
    }
   ],
   "source": [
    "painting_uri = \":A02_King_Caspar\"\n",
    "visual_item_query = \"\"\"\n",
    "SELECT ?visualItem ?interpretation\n",
    "WHERE\n",
    "{\n",
    "\t:A02_King_Caspar crm:P65_shows_visual_item ?visualItem .\n",
    "\t?visualItem :hasInterpretation ?interpretation .\n",
    "}\n",
    "GROUP BY ?visualItem\n",
    "\"\"\"\n",
    "\n",
    "results = ckg.query(visual_item_query)\n",
    "\n",
    "for row in results:\n",
    "    print(row)\n",
    "    print(\"\\n\")"
   ]
  },
  {
   "cell_type": "markdown",
   "metadata": {},
   "source": [
    "#### Exhibition\n",
    "\n",
    "[The Exhibition](https://linked.art/model/exhibition/) is represented as a `crm:E7_Activity`. Drawing from the LA AP.\n",
    "\n",
    "* To specify that the Activity is an Exhibition, it is linked via property `crm:P2_has_type` to an instance of the class `crm:E55_Type`, that is `crm:P1_is_identified_by` the `aat:300054766`, and labeled as `rdfs:label \"Exhibiting\"^^rdfs:Literal`.\n",
    "* The name of the exhibition is expressed by using the property `crm:P1_is_identified_by`, having as object an instance of class `crm:E33_E41_Linguistic_Appellation`. This is linked to its natural language name through property `crm:P190_has_symbolic_content`.\n",
    "* The description of the Exhibition general narrative is expressed by using property `crm:P67i_is_referred_to_by` to link the Activity to a blank node of type `crm:E33_E41_Linguistic_Appellation`. As before, the Linguistic appellation `crm:P190_has_symbolic_content` a Literal describing the exhibition.\n",
    "* Lastly, the objects and curatorial narratives used by the Exhibition are connected via property `crm:P16_used_specific_object`."
   ]
  },
  {
   "cell_type": "code",
   "execution_count": null,
   "metadata": {},
   "outputs": [],
   "source": [
    ":BlackinRembrandtsTime rdf:type owl:NamedIndividual ,\n",
    "                                crm:E7_Activity ;\n",
    "                       crm:P1_is_identified_by :E1 ;\n",
    "                       crm:P2_has_type :Exhibition ;\n",
    "                       :P16_used_specific_object :A02_King_Caspar ,\n",
    "                                                 :Non_Stereotypical_Representation_of_Black_People ,\n",
    "                                                 :Painters_from_the_Dutch_Golden_Age ;\n",
    "                       :P67i_is_referred_to_by :E1_Description .\n",
    "\n",
    ":Exhibition rdf:type owl:NamedIndividual ,\n",
    "                     crm:E55_Type ;\n",
    "            crm:P1_is_identified_by <http://www.semanticweb.org/xln105/ontologies/2025/2/CurationOntology#300054766> ;\n",
    "            rdfs:label \"Exhibiting\"^^rdfs:Literal .\n",
    "\n",
    ":E1 rdf:type owl:NamedIndividual ,\n",
    "             crm:E33_E41_Linguistic_Appellation ;\n",
    "    crm:P190_has_symbolic_content \"Black in Rembrandt's Times\"^^rdfs:Literal .\n",
    "\n",
    ":E1_Description rdf:type owl:NamedIndividual ,\n",
    "                         crm:E33_E41_Linguistic_Appellation ;\n",
    "                crm:P190_has_symbolic_content \"Black people were present in seventeenth-century Holland, both in society and in art. This subject has long remained in the shadows, but wrongly so. Rembrandt and many of his contemporaries made magnificent works of art that depict black people. Those works have been collected in this book. The biggest surprise: the later stereotypes of black people had not yet become dominant. Painters portrayed individual black models from life, with all their personal characteristics. Furthermore, black people were not always secondary figures in minor roles, but sometimes formed the main subject of the art work. This book explores the conditions that gave rise to these remarkable works of art and the reasons the public image of black people changed from about 1660 onwards. It tells the stories of artists who aimed to capture the visual world, the impact of transatlantic slavery, and a small community of free black people in Amsterdam’s Jodenbreestraat.\"^^rdfs:Literal ."
   ]
  },
  {
   "cell_type": "markdown",
   "metadata": {},
   "source": [
    "To query information about the theme of the exhibition, one can run the following SPARQL query"
   ]
  },
  {
   "cell_type": "code",
   "execution_count": 42,
   "metadata": {},
   "outputs": [
    {
     "name": "stdout",
     "output_type": "stream",
     "text": [
      "(rdflib.term.URIRef('http://www.semanticweb.org/xln105/ontologies/2025/2/CurationOntology#BlackinRembrandtsTime'), rdflib.term.Literal('Black people were present in seventeenth-century Holland, both in society and in art. This subject has long remained in the shadows, but wrongly so. Rembrandt and many of his contemporaries made magnificent works of art that depict black people. Those works have been collected in this book. The biggest surprise: the later stereotypes of black people had not yet become dominant. Painters portrayed individual black models from life, with all their personal characteristics. Furthermore, black people were not always secondary figures in minor roles, but sometimes formed the main subject of the art work. This book explores the conditions that gave rise to these remarkable works of art and the reasons the public image of black people changed from about 1660 onwards. It tells the stories of artists who aimed to capture the visual world, the impact of transatlantic slavery, and a small community of free black people in Amsterdam’s Jodenbreestraat.', datatype=rdflib.term.URIRef('http://www.w3.org/2000/01/rdf-schema#Literal')))\n",
      "\n",
      "\n"
     ]
    }
   ],
   "source": [
    "exhibition_query = \"\"\"\n",
    "SELECT ?exhibition ?description\n",
    "WHERE\n",
    "{\n",
    "?exhibition rdf:type crm:E7_Activity;\n",
    "\t\tcrm:P67i_is_referred_to_by ?bnode .\n",
    "?bnode rdf:type crm:E33_E41_Linguistic_Appellation ;\n",
    "\t\tcrm:P190_has_symbolic_content ?description .\n",
    "}\n",
    "GROUP BY ?exhibition\n",
    "\"\"\"\n",
    "\n",
    "results = ckg.query(exhibition_query)\n",
    "\n",
    "for row in results:\n",
    "    print(row)\n",
    "    print(\"\\n\")"
   ]
  },
  {
   "cell_type": "markdown",
   "metadata": {},
   "source": [
    "#### Curatorial Narratives\n",
    "\n",
    "Curatorial Narratives are represented with the class `CuratorialNarrative`, equal to `crm:E89_Propositional_Object`. \n",
    "\n",
    "* They are linked to the HeritageObjects associated to them via `:hasAssociatedHeritageObject` .\n",
    "* And they are described with a Literal, connected through property `:hasDescription` ."
   ]
  },
  {
   "cell_type": "markdown",
   "metadata": {},
   "source": [
    "To query information about the narratives, one can run the following SPARQL query"
   ]
  },
  {
   "cell_type": "code",
   "execution_count": 51,
   "metadata": {},
   "outputs": [
    {
     "name": "stdout",
     "output_type": "stream",
     "text": [
      "(rdflib.term.URIRef('http://www.semanticweb.org/xln105/ontologies/2025/2/CurationOntology#Non_Stereotypical_Representation_of_Black_People'), rdflib.term.Literal(\"AUTONOMOUS AND NON-STEREOTYPICAL REPRESENTATION OF BLACK PEOPLE DURING THE DUTCH GOLDEN AGE\\n1. Individuality and Realism:\\n\\n- Artists like Rembrandt and his contemporaries often depicted black individuals with a high degree of realism, capturing their unique personal characteristics.\\n- These depictions were based on live models, emphasizing their individuality rather than conforming to stereotypes.\\n\\n2. Central Figures:\\n\\n- Black people were not always portrayed as secondary figures or in subservient roles. In many artworks, they were the main subjects, highlighting their importance and presence in society.\\n\\n3. Diverse Roles:\\n\\n- Black individuals were shown in various roles beyond servitude, such as musicians, drummers, and participants in biblical scenes.\\n- These representations showcased their active participation in different aspects of life, reflecting a more inclusive view.\\n\\n4. Positive Attributes:\\n\\n- Early depictions often highlighted positive attributes such as dignity, strength, and beauty.\\n- Artists like Gerrit Dou and Rembrandt portrayed black people with a sense of respect and admiration, avoiding the negative stereotypes that became more common later.\\n\\n5. Community Presence:\\n\\n- The presence of a small community of free black people in Amsterdam's Jodenbreestraat influenced these representations.\\n- This community provided artists with real-life models, allowing for more accurate and respectful depictions.\", datatype=rdflib.term.URIRef('http://www.w3.org/2000/01/rdf-schema#Literal')))\n",
      "\n",
      "\n",
      "(rdflib.term.URIRef('http://www.semanticweb.org/xln105/ontologies/2025/2/CurationOntology#Painters_from_the_Dutch_Golden_Age'), rdflib.term.Literal('DUTCH GOLDEN AGE\\n1. Economic Prosperity:\\n\\n- The Dutch Golden Age (17th century) was marked by significant economic growth, driven by trade, colonization, and the establishment of the Dutch East India Company (VOC) and the Dutch West India Company (WIC).\\n- Amsterdam became a major hub for global trade, attracting diverse populations, including black people from Africa and the Americas.\\n\\n2. Presence of Black People:\\n\\n- Black individuals were present in various roles, including as enslaved people, servants, and sailors.\\n- A small community of free black people emerged in Amsterdam, particularly around the Jodenbreestraat.\\n\\n3. Artistic Representation:\\n\\n- Artists like Rembrandt and his contemporaries depicted black people in their works, often portraying them with individuality and realism.\\n\\nSTEREOTYPICAL REPRESENTATION IN ART\\n\\n1. Early Realism:\\n\\n- Initially, black people were depicted with a high degree of realism, capturing their unique characteristics and portraying them in diverse roles.\\n\\n2. Shift to Stereotypes:\\n\\n- As the transatlantic slave trade intensified, depictions of black people became more stereotypical.\\n- They were often shown in subservient roles, emphasizing their status as servants or slaves.\\n\\n3. Exoticism and Commodification:\\n\\n- Black individuals were sometimes depicted in exotic costumes, reinforcing their \"otherness\" and justifying their exploitation.\\n- Art began to reflect and reinforce racial hierarchies, portraying black people in ways that supported the economic interests of the time.', datatype=rdflib.term.URIRef('http://www.w3.org/2000/01/rdf-schema#Literal')))\n",
      "\n",
      "\n"
     ]
    }
   ],
   "source": [
    "narrative_query = \"\"\"\n",
    "SELECT ?narrative ?description\n",
    "WHERE\n",
    "{\n",
    "?narrative :hasAssociatedHeritageObject :A02_King_Caspar ; \n",
    "\t\t:hasDescription ?description .\n",
    "}\n",
    "GROUP BY ?narrative\n",
    "\"\"\"\n",
    "\n",
    "results = ckg.query(narrative_query)\n",
    "\n",
    "for row in results:\n",
    "    print(row)\n",
    "    print(\"\\n\")"
   ]
  },
  {
   "cell_type": "markdown",
   "metadata": {},
   "source": [
    "The descriptions of the two narratives present in the example: 1. AUTONOMOUS AND NON-STEREOTYPICAL REPRESENTATION OF BLACK PEOPLE and 2. PAINTERS FROM THE DUTCH GOLDEN AGE. Were generated through Copilot summarization of the Exhibition Book _Black in Rembrandt's Time_, and manually checked.\n",
    "\n",
    "We deduce that most information come from the following essays in the book:\n",
    "1. BLACK IN THE ART OF REMBRANDT’S TIME by Elmer Kolfin\n",
    "2. BLACK IN AMSTERDAM AROUND 1650 by Mark Ponte\n",
    "3. THE BLACK PRESENCE IN THE ART OF REMBRANDT AND HIS CIRCLE by David De Witt"
   ]
  },
  {
   "cell_type": "markdown",
   "metadata": {},
   "source": [
    "For Educational Purposes, as explained in our scenario description, and to enable the Argumentation Framework tree generation. We set as constraint that a CuratorialNarrative can only have 1 HeritageObject associated."
   ]
  },
  {
   "cell_type": "code",
   "execution_count": null,
   "metadata": {},
   "outputs": [],
   "source": [
    ":CuratorialNarrative rdf:type owl:Class ;\n",
    "                     rdfs:subClassOf [ rdf:type owl:Restriction ;\n",
    "                                       owl:onProperty :hasAssociatedHeritageObject ;\n",
    "                                       owl:maxQualifiedCardinality \"1\"^^xsd:nonNegativeInteger ;\n",
    "                                       owl:onClass :HeritageObject\n",
    "                                     ] ."
   ]
  }
 ],
 "metadata": {
  "kernelspec": {
   "display_name": "Python 3",
   "language": "python",
   "name": "python3"
  },
  "language_info": {
   "codemirror_mode": {
    "name": "ipython",
    "version": 3
   },
   "file_extension": ".py",
   "mimetype": "text/x-python",
   "name": "python",
   "nbconvert_exporter": "python",
   "pygments_lexer": "ipython3",
   "version": "3.13.0"
  }
 },
 "nbformat": 4,
 "nbformat_minor": 2
}
